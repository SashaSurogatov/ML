{
 "cells": [
  {
   "cell_type": "code",
   "execution_count": 16,
   "metadata": {},
   "outputs": [
    {
     "name": "stdout",
     "output_type": "stream",
     "text": [
      "9\n",
      "0.0\n"
     ]
    }
   ],
   "source": [
    "import numpy as np\n",
    "import math\n",
    "import sys\n",
    "\n",
    "def read_data():\n",
    "    x = []\n",
    "    y = []\n",
    "    with open('iris.data', 'r') as f:\n",
    "        for line in f:\n",
    "            if line == '\\n':\n",
    "                continue\n",
    "            sepal_l, sepal_w, petal_l, petal_w, iris_class = line.split(',')\n",
    "            x.append([sepal_l, sepal_w, petal_l, petal_w])\n",
    "            if iris_class == 'Iris-setosa\\n':\n",
    "                y.append(1)\n",
    "            elif iris_class == 'Iris-versicolor\\n':\n",
    "                y.append(2)\n",
    "            else:\n",
    "                y.append(3)\n",
    "    return np.array(x).astype('float64'), np.array(y).astype('float64')\n",
    "\n",
    "def get_distance(x_train, x):\n",
    "    return np.sqrt(np.dot(x_train - x, x_train - x))\n",
    "\n",
    "def get_error(y_train, y):\n",
    "    incorrect_count = 0.0\n",
    "    for i in xrange(y_train.shape[0]):\n",
    "        if y_train[i] != y[i]:\n",
    "            incorrect_count += 1\n",
    "    return incorrect_count / y_train.shape[0] * 100.0\n",
    "\n",
    "def knn(k, x_train, y_train, x):\n",
    "    y = []\n",
    "    for i in xrange(x.shape[0]):\n",
    "        dist = []\n",
    "        for j in xrange(x_train.shape[0]):\n",
    "            dist.append((get_distance(x_train[j], x[i]), y_train[j][0]))\n",
    "\n",
    "        results = np.array(sorted(dist)[:k])[:, 1]\n",
    "        items, counts = np.unique(results, return_counts=True)\n",
    "        y.append(items[np.argmax(counts)])\n",
    "    return y   \n",
    "   \n",
    "def cross_validation(k_fold, k_nn_max, x, y):\n",
    "    best_err = sys.maxint\n",
    "    best_knn = 0\n",
    "    for k in xrange(1, k_nn_max + 1):\n",
    "        error = cross_validation_iteration(k_fold, k, x.copy(), y.copy())\n",
    "        if error <= best_err:\n",
    "            best_err = error\n",
    "            best_knn = k\n",
    "    return best_knn\n",
    "\n",
    "def cross_validation_iteration(k_fold, k_nn, x, y):\n",
    "    k_fold_size = len(x) / k_fold\n",
    "    error = 0.0\n",
    "    for k_idx in xrange(k_fold):\n",
    "        x_train = np.concatenate((x[:k_idx * k_fold_size], x[(k_idx + 1) * k_fold_size:]))\n",
    "        y_train = np.concatenate((y[:k_idx * k_fold_size], y[(k_idx + 1) * k_fold_size:]))\n",
    "        \n",
    "        x_validation = x[k_idx * k_fold_size:(k_idx + 1) * k_fold_size]\n",
    "        y_validation = y[k_idx * k_fold_size:(k_idx + 1) * k_fold_size]\n",
    "        \n",
    "        y_knn = knn(k_nn, x_train, y_train, x_validation)\n",
    "        error += get_error(y_validation, y_knn)\n",
    "    return error / k_fold\n",
    "    \n",
    "x, y = read_data()\n",
    "\n",
    "c = np.c_[x.reshape(len(x), -1), y.reshape(len(y), -1)]\n",
    "np.random.shuffle(c)\n",
    "\n",
    "x_train = c[:, :x.size//len(x)][:int(0.9 * x.shape[0])]\n",
    "y_train = c[:, x.size//len(x):][:int(0.9 * x.shape[0])]\n",
    "\n",
    "x_test = c[:, :x.size//len(x)][int(0.9 * x.shape[0]):]\n",
    "y_test = c[:, x.size//len(x):][int(0.9 * x.shape[0]):]\n",
    "\n",
    "best_k = cross_validation(5, 40, x_train.copy(), y_train.copy())\n",
    "\n",
    "model = knn(best_k, x_train.copy(), y_train.copy(), x_test.copy())\n",
    "print best_k\n",
    "print get_error(y_test, model)"
   ]
  },
  {
   "cell_type": "code",
   "execution_count": null,
   "metadata": {
    "collapsed": true
   },
   "outputs": [],
   "source": []
  }
 ],
 "metadata": {
  "kernelspec": {
   "display_name": "Python 2",
   "language": "python",
   "name": "python2"
  },
  "language_info": {
   "codemirror_mode": {
    "name": "ipython",
    "version": 2
   },
   "file_extension": ".py",
   "mimetype": "text/x-python",
   "name": "python",
   "nbconvert_exporter": "python",
   "pygments_lexer": "ipython2",
   "version": "2.7.13"
  }
 },
 "nbformat": 4,
 "nbformat_minor": 2
}
