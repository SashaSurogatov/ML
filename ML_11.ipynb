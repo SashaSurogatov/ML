{
 "cells": [
  {
   "cell_type": "code",
   "execution_count": 1,
   "metadata": {},
   "outputs": [
    {
     "name": "stdout",
     "output_type": "stream",
     "text": [
      "SVC score on train: 0.9998\n",
      "SVC score on validation: 0.9856\n"
     ]
    }
   ],
   "source": [
    "import sklearn.datasets \n",
    "from sklearn.svm import SVC\n",
    "from sklearn.utils import shuffle\n",
    "import numpy as np \n",
    "\n",
    "mnist = sklearn.datasets.fetch_mldata('MNIST original') \n",
    "X, Y = mnist['data'], np.array(mnist['target'], dtype='int') \n",
    "\n",
    "X = X / 255.0 * 2 - 1\n",
    "\n",
    "ntrain_dev = 60000 \n",
    "x_train, y_train = X[:ntrain_dev], Y[:ntrain_dev] \n",
    "X_test, Y_test = X[ntrain_dev:], Y[ntrain_dev:]\n",
    "\n",
    "estimator = SVC(probability=False, kernel=\"rbf\", C=2.8, gamma=.0073)\n",
    "\n",
    "estimator.fit(x_train, y_train) \n",
    "print('SVC score on train:', estimator.score(x_train, y_train)) \n",
    "print('SVC score on validation:', estimator.score(X_test, Y_test))"
   ]
  },
  {
   "cell_type": "code",
   "execution_count": null,
   "metadata": {
    "collapsed": true
   },
   "outputs": [],
   "source": []
  }
 ],
 "metadata": {
  "kernelspec": {
   "display_name": "Python 3",
   "language": "python",
   "name": "python3"
  },
  "language_info": {
   "codemirror_mode": {
    "name": "ipython",
    "version": 3
   },
   "file_extension": ".py",
   "mimetype": "text/x-python",
   "name": "python",
   "nbconvert_exporter": "python",
   "pygments_lexer": "ipython3",
   "version": "3.6.1"
  }
 },
 "nbformat": 4,
 "nbformat_minor": 2
}
